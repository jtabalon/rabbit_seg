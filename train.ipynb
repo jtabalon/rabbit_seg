{
 "cells": [
  {
   "cell_type": "markdown",
   "metadata": {},
   "source": [
    "# MONAI Airway Segmentation"
   ]
  },
  {
   "cell_type": "markdown",
   "metadata": {},
   "source": []
  }
 ],
 "metadata": {
  "interpreter": {
   "hash": "0412a8a39e39979d3ed2e1d376f3beeb4f90846e208eaa525a7f87e70e81ade0"
  },
  "kernelspec": {
   "display_name": "Python 3.9.7 64-bit ('monai': conda)",
   "name": "python3"
  },
  "language_info": {
   "name": "python",
   "version": "3.9.7"
  },
  "orig_nbformat": 4
 },
 "nbformat": 4,
 "nbformat_minor": 2
}
